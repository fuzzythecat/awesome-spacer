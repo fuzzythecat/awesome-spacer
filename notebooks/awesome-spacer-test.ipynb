{
 "cells": [
  {
   "cell_type": "code",
   "execution_count": 1,
   "metadata": {},
   "outputs": [],
   "source": [
    "import os\n",
    "import re\n",
    "import numpy as np\n",
    "import tensorflow as tf\n",
    "\n",
    "from random import shuffle\n",
    "from glob import glob\n",
    "from tqdm import tqdm\n",
    "from bs4 import BeautifulSoup\n",
    "from itertools import chain\n",
    "from tensorflow import keras\n",
    "from tensorflow.keras import layers\n",
    "from tensorflow.keras import models\n",
    "from tensorflow.keras.preprocessing.sequence import pad_sequences\n",
    "from tensorflow.keras.callbacks import ModelCheckpoint\n",
    "os.environ['CUDA_VISIBLE_DEVICES'] = '0'"
   ]
  },
  {
   "cell_type": "code",
   "execution_count": 2,
   "metadata": {},
   "outputs": [],
   "source": [
    "# Define valid character set\n",
    "complete_kor_range = range(0xac00, 0xd7a4)\n",
    "complete_eng_range = range(0x0041, 0x007b)\n",
    "#punctuations = '~!@#$%^&*()-_=+{}[];:\\'\"<>,./?'\n",
    "numbers = '0123456789'\n",
    "\n",
    "idx_to_chr = []\n",
    "chr_to_idx = {}\n",
    "# The first few indices are reserved\n",
    "idx_to_chr.append('<PAD>')\n",
    "idx_to_chr.append('<START>')\n",
    "idx_to_chr.append('<UNK>') # unknown\n",
    "\n",
    "# A list mapping indices to words\n",
    "idx_to_chr.extend(numbers)\n",
    "#idx_to_chr.extend(punctuations)\n",
    "for i in chain(complete_kor_range, complete_eng_range):\n",
    "    idx_to_chr.append(chr(i))\n",
    "\n",
    "# A dictionary mapping charactes to integer indices\n",
    "for v, k in enumerate(idx_to_chr):\n",
    "    chr_to_idx[k] = v"
   ]
  },
  {
   "cell_type": "code",
   "execution_count": 3,
   "metadata": {},
   "outputs": [],
   "source": [
    "def encode_string(s):\n",
    "    encoded = []\n",
    "    for c in s:\n",
    "        try:\n",
    "            idx = chr_to_idx[c]\n",
    "        except:\n",
    "            idx = chr_to_idx['<UNK>']\n",
    "        encoded.append(idx)\n",
    "    return encoded\n",
    "\n",
    "\n",
    "def get_label(s, idx=0):\n",
    "    label = []\n",
    "    while True:\n",
    "        try:\n",
    "            next_ch = s[idx + 1]\n",
    "        except:\n",
    "            # End of sentence\n",
    "            label.append(0)\n",
    "            break\n",
    "        if s[idx] == ' ':\n",
    "            label.append(1)\n",
    "            idx += 2\n",
    "        else:\n",
    "            label.append(0)\n",
    "            idx += 1\n",
    "    return label"
   ]
  },
  {
   "cell_type": "markdown",
   "metadata": {},
   "source": [
    "# Load model"
   ]
  },
  {
   "cell_type": "code",
   "execution_count": 4,
   "metadata": {},
   "outputs": [
    {
     "name": "stderr",
     "output_type": "stream",
     "text": [
      "WARNING: Logging before flag parsing goes to stderr.\n",
      "W0704 04:45:05.212321 140487151609664 deprecation.py:323] From /home/dustin/anaconda3/envs/tf2/lib/python3.6/site-packages/tensorflow/python/ops/math_grad.py:1250: add_dispatch_support.<locals>.wrapper (from tensorflow.python.ops.array_ops) is deprecated and will be removed in a future version.\n",
      "Instructions for updating:\n",
      "Use tf.where in 2.0, which has the same broadcast rule as np.where\n"
     ]
    }
   ],
   "source": [
    "model = models.load_model('models/02-0.0223-0.9917.hdf5')"
   ]
  },
  {
   "cell_type": "markdown",
   "metadata": {},
   "source": [
    "# Make prediction"
   ]
  },
  {
   "cell_type": "code",
   "execution_count": 5,
   "metadata": {},
   "outputs": [],
   "source": [
    "test = '''영국의철학자인화이트헤드는”서양의 2000년 철학은 모두 플라톤의 각주에 불과하다”라고 말했으며,\n",
    "          시인 에머슨은 “철학은 플라톤이고, 플라톤은 철학”이라 평하였는데, 플라톤은 소크라테스의 수제자이다. \n",
    "          플라톤이 20대인 시절, 스승 소크라테스가 민주주의에 의해 끝내 사형당하는 것을 보고 크게 분개했으며, \n",
    "          이는 그의 귀족주의 “철인 정치” 지지의 큰 계기가 되었다. 알렉산더 대왕은 소크라테스의 증손제자로, \n",
    "          플라톤의 제자인 아리스토텔레스의 제자'''"
   ]
  },
  {
   "cell_type": "code",
   "execution_count": 6,
   "metadata": {},
   "outputs": [
    {
     "name": "stdout",
     "output_type": "stream",
     "text": [
      "영국의철학자인화이트헤드는”서양의2000년철학은모두플라톤의각주에불과하다”라고말했으며,시인에머슨은“철학은플라톤이고,플라톤은철학”이라평하였는데,플라톤은소크라테스의수제자이다.플라톤이20대인시절,스승소크라테스가민주주의에의해끝내사형당하는것을보고크게분개했으며,이는그의귀족주의“철인정치”지지의큰계기가되었다.알렉산더대왕은소크라테스의증손제자로,플라톤의제자인아리스토텔레스의제자\n"
     ]
    }
   ],
   "source": [
    "max_text_len = 200\n",
    "regex = re.compile(r'\\s+')\n",
    "test = test.strip().lower()\n",
    "test = re.sub(regex, '', test)  # remove all whitespaces\n",
    "print(f'입력: \n{test}')\n",
    "encoded = encode_string(test)\n",
    "X_test = pad_sequences([encoded], maxlen=max_text_len, padding='post', truncating='post')"
   ]
  },
  {
   "cell_type": "code",
   "execution_count": 7,
   "metadata": {},
   "outputs": [
    {
     "data": {
      "text/plain": [
       "array([[ 6670,   378,  7013,  8365, 10598,  7069,  7045, 10849,  7041,\n",
       "         9925, 10737,  2281,  1697,     2,  5417,  6558,  7013,     5,\n",
       "            3,     3,     3,  1361,  8365, 10598,  6989,  3765,  2141,\n",
       "        10521,  2953,  9649,  7013,    14,  7433,  6621,  4501,   265,\n",
       "        10597,  1777,     2,  2953,   237,  3549, 10645,  6985,  3709,\n",
       "            2,  5865,  7045,  6621,  3653,  5813,  6989,     2,  8365,\n",
       "        10598,  6989, 10521,  2953,  9649,  7041,   237,     2, 10521,\n",
       "         2953,  9649,  6989,  8365, 10598,     2,  7041,  2953, 10198,\n",
       "        10597,  6669,  1697,  1917,     2, 10521,  2953,  9649,  6989,\n",
       "         5529,  9337,  2953,  9561,  5809,  7013,  5669,  7209,  7069,\n",
       "         7041,  1777,     2, 10521,  2953,  9649,  7041,     5,     3,\n",
       "         1805,  7045,  5865,  7189,     2,  5809,  5830,  5529,  9337,\n",
       "         2953,  9561,  5809,    13,  4105,  7433,  7433,  7013,  6621,\n",
       "         7013, 10625,  1130,  1217,  5305, 10786,  1798, 10597,  1697,\n",
       "          144,  6993,  4353,   237,  9337,   153,  4497,    41, 10645,\n",
       "         6985,  3709,     2,  7041,  1697,   517,  7013,   461,  7294,\n",
       "         7433,  7013,     2,  8365,  7045,  7202,  8805,     2,  7629,\n",
       "         7629,  7013,  9341,   209,   573,    13,  2085,  6613,  1777,\n",
       "            2,  6489,  3094,  5309,  1889,  1805,  6754,  6989,  5529,\n",
       "         9337,  2953,  9561,  5809,  7013,  7594,  5533,  7209,  7069,\n",
       "         3177,     2, 10521,  2953,  9649,  7013,  7209,  7069,  7045,\n",
       "         6481,  3513,  5809,  9645,  9569,  3093,  5809,  7013,  7209,\n",
       "         7069,     0]], dtype=int32)"
      ]
     },
     "execution_count": 7,
     "metadata": {},
     "output_type": "execute_result"
    }
   ],
   "source": [
    "data = pad_sequences([encoded], maxlen=max_text_len, padding='post', truncating='post')\n",
    "data"
   ]
  },
  {
   "cell_type": "code",
   "execution_count": 8,
   "metadata": {},
   "outputs": [
    {
     "data": {
      "text/plain": [
       "(1, 200)"
      ]
     },
     "execution_count": 8,
     "metadata": {},
     "output_type": "execute_result"
    }
   ],
   "source": [
    "data.shape"
   ]
  },
  {
   "cell_type": "code",
   "execution_count": 9,
   "metadata": {},
   "outputs": [],
   "source": [
    "p = model.predict(data)"
   ]
  },
  {
   "cell_type": "code",
   "execution_count": 10,
   "metadata": {},
   "outputs": [
    {
     "name": "stdout",
     "output_type": "stream",
     "text": [
      "영국의 철학자인 화이트 헤드는 ”서양의 2000년 철학은 모두 플라톤의 각주에 불과하다”라고 말했으며, 시인에 머슨은 “철학은 플라톤이고, 플라톤은 철학”이라 평하였는데, 플라톤은 소크라테스의 수제자이다. 플라톤이 20대인 시절, 스승소크라테스가 민주주의에 의해 끝내사 형당하는 것을 보고 크게 분개했으며, 이는 그의 귀족주의 “철인 정치” 지지의 큰 계기가 되었다. 알렉산더 대왕은 소크라테스의 증손제자로 ,플라톤의 제자인 아리스 토텔레스의 제자"
     ]
    }
   ],
   "source": [
    "print(f'\n출력:')\n",
    "length = min(len(test), 200)\n",
    "for i, c in enumerate(test[:length]):\n",
    "    if p[0][i] >= 0.5:\n",
    "        print(' ', end='')\n",
    "    print(c, end='')"   
   ]
  }
 ],
 "metadata": {
  "kernelspec": {
   "display_name": "Python 3",
   "language": "python",
   "name": "python3"
  },
  "language_info": {
   "codemirror_mode": {
    "name": "ipython",
    "version": 3
   },
   "file_extension": ".py",
   "mimetype": "text/x-python",
   "name": "python",
   "nbconvert_exporter": "python",
   "pygments_lexer": "ipython3",
   "version": "3.6.8"
  }
 },
 "nbformat": 4,
 "nbformat_minor": 2
}
